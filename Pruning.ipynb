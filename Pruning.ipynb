{
  "nbformat": 4,
  "nbformat_minor": 0,
  "metadata": {
    "colab": {
      "name": "Pruning.ipynb",
      "provenance": [],
      "collapsed_sections": [],
      "toc_visible": true
    },
    "kernelspec": {
      "name": "python3",
      "display_name": "Python 3"
    },
    "accelerator": "GPU"
  },
  "cells": [
    {
      "cell_type": "markdown",
      "metadata": {
        "id": "iSG1gbqxNPtv"
      },
      "source": [
        "## Введение"
      ]
    },
    {
      "cell_type": "markdown",
      "metadata": {
        "id": "0IuIZapLMV01"
      },
      "source": [
        "Рассмотрим задачу pruning'а нейросетевых моделей, а именно — ResNet20 для датасета CIFAR-10 из оригинальной статьи [Deep Residual Learning for Image Recognition](https://arxiv.org/abs/1512.03385). Сначала реализуем архитектуру модели ResNet20, затем обучим ее на датасете CIFAR-10, создадим класс для реализации filter-level метода pruning'а и сравним результаты его применения для различных параметров класса."
      ]
    },
    {
      "cell_type": "markdown",
      "metadata": {
        "id": "wCSs8PNTdaHr"
      },
      "source": [
        "## Импортирование модулей и файлов"
      ]
    },
    {
      "cell_type": "code",
      "metadata": {
        "id": "tweo_glAbOaH"
      },
      "source": [
        "import os\n",
        "os.makedirs('runs', exist_ok=True)"
      ],
      "execution_count": 1,
      "outputs": []
    },
    {
      "cell_type": "code",
      "metadata": {
        "id": "ImrlvFi8ftBC"
      },
      "source": [
        "import imp\n",
        "import torch\n",
        "import torch.nn as nn\n",
        "from IPython.display import clear_output\n",
        "from matplotlib import pyplot as plt\n",
        "plt.style.use('ggplot')"
      ],
      "execution_count": 2,
      "outputs": []
    },
    {
      "cell_type": "code",
      "metadata": {
        "id": "IYpkjY3jLT3-"
      },
      "source": [
        "!pip install albumentations==0.5.1"
      ],
      "execution_count": null,
      "outputs": []
    },
    {
      "cell_type": "markdown",
      "metadata": {
        "id": "O04dohNnOdJ1"
      },
      "source": [
        "Основные реализации всех моделей и вспомогательных методов находятся в файлах `resnet.py`, `prune_model.py`, `train_utils.py` и `pruning_utils.py`."
      ]
    },
    {
      "cell_type": "code",
      "metadata": {
        "id": "WIqgqWGebYih"
      },
      "source": [
        "from google.colab import drive\n",
        "drive.mount('/content/drive')"
      ],
      "execution_count": null,
      "outputs": []
    },
    {
      "cell_type": "code",
      "metadata": {
        "id": "IgR7gdgdbcih"
      },
      "source": [
        "!cp 'drive/My Drive/Colab Notebooks/CV/Pruning/train_utils.py' .\n",
        "!cp 'drive/My Drive/Colab Notebooks/CV/Pruning/pruning_utils.py' .\n",
        "!cp 'drive/My Drive/Colab Notebooks/CV/Pruning/prune_model.py' .\n",
        "!cp 'drive/My Drive/Colab Notebooks/CV/Pruning/resnet.py' ."
      ],
      "execution_count": 5,
      "outputs": []
    },
    {
      "cell_type": "code",
      "metadata": {
        "id": "Ir4ccfzacR3S"
      },
      "source": [
        "root_path = '/content/cifar10'\n",
        "os.makedirs(root_path, exist_ok=True)"
      ],
      "execution_count": 6,
      "outputs": []
    },
    {
      "cell_type": "markdown",
      "metadata": {
        "id": "aSsv7DqwJauI"
      },
      "source": [
        "## Обучение модели ResNet20 на датасете CIFAR-10"
      ]
    },
    {
      "cell_type": "code",
      "metadata": {
        "id": "t69tiKqYbdaf"
      },
      "source": [
        "import train_utils\n",
        "imp.reload(train_utils)"
      ],
      "execution_count": null,
      "outputs": []
    },
    {
      "cell_type": "code",
      "metadata": {
        "id": "FjYkm_u4bqKI"
      },
      "source": [
        "from train_utils import train, train_model, evaluate, get_train_val_loader, get_test_loader, get_test_results"
      ],
      "execution_count": 41,
      "outputs": []
    },
    {
      "cell_type": "code",
      "metadata": {
        "id": "wkc2nL-nLuwy"
      },
      "source": [
        "device = torch.device('cuda' if torch.cuda.is_available() else 'cpu')\n",
        "\n",
        "num_workers = 4\n",
        "batch_size = 128\n",
        "val_ratio = 0.1\n",
        "\n",
        "train_loader, val_loader = get_train_val_loader(data_dir=root_path,\n",
        "                                                batch_size=batch_size,\n",
        "                                                val_size=val_ratio,\n",
        "                                                num_workers=num_workers)\n",
        "\n",
        "test_loader = get_test_loader(data_dir=root_path,\n",
        "                              batch_size=batch_size,\n",
        "                              num_workers=num_workers)"
      ],
      "execution_count": null,
      "outputs": []
    },
    {
      "cell_type": "code",
      "metadata": {
        "id": "i_TvsI7idONk"
      },
      "source": [
        "import resnet\n",
        "imp.reload(resnet)\n",
        "from resnet import create_resnet20"
      ],
      "execution_count": 10,
      "outputs": []
    },
    {
      "cell_type": "markdown",
      "metadata": {
        "id": "bs2NQyXcO7V4"
      },
      "source": [
        "Создадим экземпляр класса ResNet20 и обучим модель с теми параметрами, которые были указаны в оригинальной статье. На графиках показан loss на текущей эпохе, средний loss по эпохам на обучающей и валидационной выборке, а также accuracy по эпохам на обучающей и валидационной выборке."
      ]
    },
    {
      "cell_type": "code",
      "metadata": {
        "id": "muWE6dfu139Q"
      },
      "source": [
        "resnet20_model = create_resnet20()"
      ],
      "execution_count": 11,
      "outputs": []
    },
    {
      "cell_type": "code",
      "metadata": {
        "id": "-yqGL_J85qc8"
      },
      "source": [
        "resnet20_model.to(device)"
      ],
      "execution_count": null,
      "outputs": []
    },
    {
      "cell_type": "code",
      "metadata": {
        "id": "Rr4uBdp2Lxa4"
      },
      "source": [
        "n_epochs = 100\n",
        "opt = torch.optim.SGD(resnet20_model.parameters(), lr=0.1, momentum=0.9, weight_decay=1e-4)\n",
        "criterion = nn.CrossEntropyLoss()\n",
        "lr_scheduler = torch.optim.lr_scheduler.MultiStepLR(opt, milestones=[50, 75], gamma=0.1, last_epoch=-1)"
      ],
      "execution_count": 13,
      "outputs": []
    },
    {
      "cell_type": "code",
      "metadata": {
        "colab": {
          "base_uri": "https://localhost:8080/",
          "height": 572
        },
        "id": "GvXjuNDHMHYm",
        "outputId": "534b498d-6397-43d0-9a7a-b19eec205404"
      },
      "source": [
        "train_model(resnet20_model, \n",
        "            device, \n",
        "            train_loader, \n",
        "            val_loader, \n",
        "            opt, \n",
        "            criterion, \n",
        "            lr_scheduler, \n",
        "            n_epochs, \n",
        "            clip=1, \n",
        "            model_name='resnet20_model.pth')"
      ],
      "execution_count": 14,
      "outputs": [
        {
          "output_type": "display_data",
          "data": {
            "image/png": "[encoded data removed]",
            "text/plain": [
              "<Figure size 1296x576 with 3 Axes>"
            ]
          },
          "metadata": {
            "tags": []
          }
        },
        {
          "output_type": "stream",
          "text": [
            "Epoch: 100 | Time: 0m 28s\n",
            "\tTrain Loss: 0.029\n",
            "\t Val. Loss: 0.329\n"
          ],
          "name": "stdout"
        }
      ]
    },
    {
      "cell_type": "markdown",
      "metadata": {
        "id": "OTwF7SgLPwmC"
      },
      "source": [
        "Посмотрим на accuracy полученной модели на тестовой выборке."
      ]
    },
    {
      "cell_type": "code",
      "metadata": {
        "colab": {
          "base_uri": "https://localhost:8080/"
        },
        "id": "iJUzmTn7dIU2",
        "outputId": "a3b99d1c-2c86-4089-94cd-67def4fdcf6f"
      },
      "source": [
        "get_test_results(resnet20_model, device, test_loader, criterion)"
      ],
      "execution_count": 15,
      "outputs": [
        {
          "output_type": "stream",
          "text": [
            "Loss on the test data: 0.354\n",
            "Accuracy on test data: 0.907\n"
          ],
          "name": "stdout"
        }
      ]
    },
    {
      "cell_type": "markdown",
      "metadata": {
        "id": "6aGj7MbEQIG9"
      },
      "source": [
        "Итак, точность обученной сети находится примерно на уровне 90%."
      ]
    },
    {
      "cell_type": "markdown",
      "metadata": {
        "id": "7QpcaGZJikHw"
      },
      "source": [
        "## Pruning"
      ]
    },
    {
      "cell_type": "markdown",
      "metadata": {
        "id": "wmsc3z_DQUWF"
      },
      "source": [
        "Реализуем метод pruning'а, который состоит из следующих двух шагов:\n",
        "<br>\n",
        "1. Для каждого сверточного слоя кластеризуется набор сверток, его представляющий (тензор весов), при этом кластеризация проводится отдельно для каждого слоя.\n",
        "2. Каждая исходная свертка в определенном слое заменяется на центроид кластера, к которому она была отнесена на шаге 1.\n",
        "\n",
        "Заметим, что в такой постановке задачи сама архитектура модели не изменяется, меняются ли веса модели (при этом не происходит зануление весов). В качестве метода кластеризации я решил использовать метод KMeans. Данная функциональность реализована в классе `NaiveClusterModel`."
      ]
    },
    {
      "cell_type": "code",
      "metadata": {
        "id": "zJ9E1tMDKgRi"
      },
      "source": [
        "import pruning_utils\n",
        "import prune_model"
      ],
      "execution_count": 16,
      "outputs": []
    },
    {
      "cell_type": "code",
      "metadata": {
        "id": "R6c8rVlIKl3v"
      },
      "source": [
        "from prune_model import NaiveClusterModel"
      ],
      "execution_count": 17,
      "outputs": []
    },
    {
      "cell_type": "markdown",
      "metadata": {
        "id": "Fn9O7onps0p0"
      },
      "source": [
        "В качестве параметров класса выступает словарь, где ключу соответсвует номер сверточного слоя, а значению — количество кластеров, которое мы хотим получить на данном слое.\n",
        "<br>\n",
        "Проверим, корректно ли алгоритм работает, если в качестве значений передать реальное количество сверток на каждом слое. То есть ожидается получить на каждом слое кластеры, состоящие только лишь из одного вектора признаков, соответствующего определенному фильтру. Таким образом в итоге ожидается получить ту же модель, которая была подана на вход, имеющая то же качество."
      ]
    },
    {
      "cell_type": "code",
      "metadata": {
        "id": "PpMf0v4DKxAx"
      },
      "source": [
        "cluster_args = {\n",
        "    'n_clusters_per_layer': {2: 16, 4: 16, 6: 16, 8: 16, 10: 16, 12: 16,\n",
        "                             14: 32, 16: 32, 18: 32, 20: 32, 22: 32, 24: 32, 26: 32, \n",
        "                             28: 64, 30: 64, 32: 64, 34: 64, 36: 64, 38: 64, 40: 64}\n",
        "}\n",
        "\n",
        "cl_model = NaiveClusterModel(resnet20_model, cluster_args)\n",
        "resnet20_cl = cl_model.cluster_model()\n",
        "resnet20_cl.to(device)"
      ],
      "execution_count": null,
      "outputs": []
    },
    {
      "cell_type": "code",
      "metadata": {
        "colab": {
          "base_uri": "https://localhost:8080/"
        },
        "id": "hc4rdav3K41s",
        "outputId": "0d5922de-93b1-4dda-b413-7d3f3487fd53"
      },
      "source": [
        "get_test_results(resnet20_cl, device, test_loader, criterion)"
      ],
      "execution_count": 29,
      "outputs": [
        {
          "output_type": "stream",
          "text": [
            "Loss on the test data: 0.356\n",
            "Accuracy on test data: 0.907\n"
          ],
          "name": "stdout"
        }
      ]
    },
    {
      "cell_type": "markdown",
      "metadata": {
        "id": "3C83xUiau69c"
      },
      "source": [
        "Видно, что качество модели не изменилось, то есть в результате была получена сама модель."
      ]
    },
    {
      "cell_type": "markdown",
      "metadata": {
        "id": "hYWOj3P5vFyf"
      },
      "source": [
        "Попробуем проварьировать число кластеров на определенных слоях и посмотреть на результаты работы метода."
      ]
    },
    {
      "cell_type": "code",
      "metadata": {
        "colab": {
          "base_uri": "https://localhost:8080/"
        },
        "id": "afIU4vC_vZN5",
        "outputId": "77a508e1-4b30-41c4-aad8-a69143c16436"
      },
      "source": [
        "for i in range(2, 17, 2):\n",
        "    cluster_args = {\n",
        "        'n_clusters_per_layer': {2: i, 4: i, 6: i, 8: i, 10: i, 12: i,\n",
        "                                 14: i, 16: i, 18: i, 20: i, 22: i, 24: i, 26: i, \n",
        "                                 28: i, 30: i, 32: i, 34: i, 36: i, 38: i, 40: i}\n",
        "    }\n",
        "\n",
        "    cl_model = NaiveClusterModel(resnet20_model, cluster_args)\n",
        "    resnet20_cl = cl_model.cluster_model()\n",
        "    resnet20_cl.to(device)\n",
        "    print(\"Results for {} clusters on each layer:\".format(i))\n",
        "    get_test_results(resnet20_cl, device, test_loader, criterion)\n",
        "    print('\\n')"
      ],
      "execution_count": 40,
      "outputs": [
        {
          "output_type": "stream",
          "text": [
            "Results for 2 clusters on each layer:\n",
            "Loss on the test data: 4.929\n",
            "Accuracy on test data: 0.099\n",
            "\n",
            "\n",
            "Results for 4 clusters on each layer:\n",
            "Loss on the test data: 4.490\n",
            "Accuracy on test data: 0.102\n",
            "\n",
            "\n",
            "Results for 6 clusters on each layer:\n",
            "Loss on the test data: 7.457\n",
            "Accuracy on test data: 0.100\n",
            "\n",
            "\n",
            "Results for 8 clusters on each layer:\n",
            "Loss on the test data: 4.515\n",
            "Accuracy on test data: 0.101\n",
            "\n",
            "\n",
            "Results for 10 clusters on each layer:\n",
            "Loss on the test data: 6.193\n",
            "Accuracy on test data: 0.109\n",
            "\n",
            "\n",
            "Results for 12 clusters on each layer:\n",
            "Loss on the test data: 7.747\n",
            "Accuracy on test data: 0.101\n",
            "\n",
            "\n",
            "Results for 14 clusters on each layer:\n",
            "Loss on the test data: 8.779\n",
            "Accuracy on test data: 0.101\n",
            "\n",
            "\n",
            "Results for 16 clusters on each layer:\n",
            "Loss on the test data: 7.727\n",
            "Accuracy on test data: 0.095\n",
            "\n",
            "\n"
          ],
          "name": "stdout"
        }
      ]
    },
    {
      "cell_type": "markdown",
      "metadata": {
        "id": "g6AgWrk2FSHm"
      },
      "source": [
        "Видно, что при одинаковом количестве кластеров на каждом слое (максимум 16 кластеров, т.к. иначе в первом блоке сверток невозможно будет произвести кластеризацию, на нем их всего 16) точность полученной модели очень низкая."
      ]
    },
    {
      "cell_type": "markdown",
      "metadata": {
        "id": "IUmiRpfEF0vr"
      },
      "source": [
        "Попробуем различное случайное количество кластеров для каждого сверточного слоя (их всего 20), при этом будем ограничивать количество кластеров в каждом из трех блоков сверток из модели ResNet20 (в блоках 6, 7 и 7 сверточных слоев соответственно)."
      ]
    },
    {
      "cell_type": "code",
      "metadata": {
        "id": "1Fw5t4yy9uuI"
      },
      "source": [
        "from random import randint"
      ],
      "execution_count": 48,
      "outputs": []
    },
    {
      "cell_type": "code",
      "metadata": {
        "id": "ZV6gXBY08HtL"
      },
      "source": [
        "def experiment_with_clusters_numbers(layer_idx, n_experiments, l_b_1, u_b_1, l_b_2, u_b_2, l_b_3, u_b_3):\n",
        "    # l_b_i and u_b_i are the lower and upper bounds of the number of clusters\n",
        "    # for each convolutional layer in three blocks of ResNet20\n",
        "\n",
        "    for _ in range(n_experiments):\n",
        "        cl_1 = [randint(l_b_1, u_b_1) for _ in range(6)]\n",
        "        cl_2 = [randint(l_b_2, u_b_2) for _ in range(7)]\n",
        "        cl_3 = [randint(l_b_3, u_b_3) for _ in range(7)]\n",
        "        clusters = [*cl_1, *cl_2, *cl_3]\n",
        "        cluster_args = {\n",
        "            'n_clusters_per_layer': dict(zip(layer_idx, clusters))\n",
        "        }\n",
        "\n",
        "        cl_model = NaiveClusterModel(resnet20_model, cluster_args)\n",
        "        resnet20_cl = cl_model.cluster_model()\n",
        "        resnet20_cl.to(device)\n",
        "\n",
        "        print(\"Results for clusters {}:\".format(clusters))\n",
        "        get_test_results(resnet20_cl, device, test_loader, criterion)\n",
        "        print('\\n')"
      ],
      "execution_count": 66,
      "outputs": []
    },
    {
      "cell_type": "code",
      "metadata": {
        "id": "J-ZvMAj9_zPR"
      },
      "source": [
        "layer_idx = [2, 4, 6, 8, 10, 12, 14, 16, 18, 20, 22, 24, 26, 28, 30, 32, 34, 36, 38, 40]"
      ],
      "execution_count": 67,
      "outputs": []
    },
    {
      "cell_type": "markdown",
      "metadata": {
        "id": "kOrTLD9OMTX5"
      },
      "source": [
        "Попробуем случайное количество кластеров на каждом слое в максимальном диапазоне возможных значений."
      ]
    },
    {
      "cell_type": "code",
      "metadata": {
        "colab": {
          "base_uri": "https://localhost:8080/"
        },
        "id": "qFJfMXJCH8gn",
        "outputId": "c4d1f859-c853-40ea-e436-87a3846b622f"
      },
      "source": [
        "experiment_with_clusters_numbers(layer_idx, 5, 2, 16, 2, 32, 2, 64)"
      ],
      "execution_count": 68,
      "outputs": [
        {
          "output_type": "stream",
          "text": [
            "Results for clusters [7, 16, 14, 6, 10, 15, 32, 16, 12, 3, 20, 9, 3, 61, 51, 7, 27, 13, 22, 33]:\n",
            "Loss on the test data: 12.488\n",
            "Accuracy on test data: 0.101\n",
            "\n",
            "\n",
            "Results for clusters [3, 14, 7, 4, 12, 10, 3, 11, 19, 7, 14, 19, 23, 28, 44, 17, 5, 50, 31, 50]:\n",
            "Loss on the test data: 19.409\n",
            "Accuracy on test data: 0.099\n",
            "\n",
            "\n",
            "Results for clusters [6, 9, 2, 10, 14, 14, 15, 2, 7, 16, 20, 14, 26, 40, 50, 15, 17, 47, 38, 32]:\n",
            "Loss on the test data: 9.944\n",
            "Accuracy on test data: 0.100\n",
            "\n",
            "\n",
            "Results for clusters [8, 16, 8, 11, 14, 15, 30, 32, 14, 2, 24, 27, 16, 13, 22, 4, 61, 46, 13, 17]:\n",
            "Loss on the test data: 7.911\n",
            "Accuracy on test data: 0.170\n",
            "\n",
            "\n",
            "Results for clusters [6, 12, 13, 8, 6, 7, 28, 15, 22, 15, 11, 11, 29, 18, 58, 50, 15, 35, 29, 49]:\n",
            "Loss on the test data: 17.062\n",
            "Accuracy on test data: 0.101\n",
            "\n",
            "\n"
          ],
          "name": "stdout"
        }
      ]
    },
    {
      "cell_type": "markdown",
      "metadata": {
        "id": "JfamyonVMd6R"
      },
      "source": [
        "Заметим, что качество полученных моделей также является низким."
      ]
    },
    {
      "cell_type": "markdown",
      "metadata": {
        "id": "tjAsTzluMo4U"
      },
      "source": [
        "Попробуем большое количество слоев в первом и третьем блоке, при этом во втором блоке — меньшее количество."
      ]
    },
    {
      "cell_type": "code",
      "metadata": {
        "colab": {
          "base_uri": "https://localhost:8080/"
        },
        "id": "qrA_zpQXIcbT",
        "outputId": "7ab51653-0b81-4537-f7ea-599643cb7468"
      },
      "source": [
        "experiment_with_clusters_numbers(layer_idx, 5, 14, 16, 5, 10, 60, 64)"
      ],
      "execution_count": 69,
      "outputs": [
        {
          "output_type": "stream",
          "text": [
            "Results for clusters [15, 15, 14, 16, 15, 14, 5, 7, 9, 10, 10, 8, 10, 63, 63, 61, 61, 62, 63, 64]:\n",
            "Loss on the test data: 7.523\n",
            "Accuracy on test data: 0.086\n",
            "\n",
            "\n",
            "Results for clusters [15, 14, 14, 15, 16, 15, 9, 9, 10, 5, 10, 6, 9, 63, 63, 61, 62, 64, 61, 64]:\n",
            "Loss on the test data: 6.948\n",
            "Accuracy on test data: 0.100\n",
            "\n",
            "\n",
            "Results for clusters [15, 15, 15, 15, 14, 16, 5, 8, 10, 10, 9, 10, 6, 61, 61, 61, 61, 62, 60, 62]:\n",
            "Loss on the test data: 5.971\n",
            "Accuracy on test data: 0.100\n",
            "\n",
            "\n",
            "Results for clusters [15, 15, 16, 15, 16, 14, 8, 5, 5, 5, 9, 9, 9, 60, 63, 60, 60, 60, 61, 64]:\n",
            "Loss on the test data: 6.319\n",
            "Accuracy on test data: 0.100\n",
            "\n",
            "\n",
            "Results for clusters [16, 14, 14, 14, 15, 15, 5, 9, 8, 6, 6, 5, 6, 62, 63, 62, 64, 64, 61, 64]:\n",
            "Loss on the test data: 7.110\n",
            "Accuracy on test data: 0.102\n",
            "\n",
            "\n"
          ],
          "name": "stdout"
        }
      ]
    },
    {
      "cell_type": "markdown",
      "metadata": {
        "id": "RG2xSA7bM3uF"
      },
      "source": [
        "Также видно, что качество моделей не получается высоким."
      ]
    },
    {
      "cell_type": "markdown",
      "metadata": {
        "id": "fXD8ZslmM8ai"
      },
      "source": [
        "Попробуем количество кластеров, близкое к изначальному количеству сверток в каждом слое."
      ]
    },
    {
      "cell_type": "code",
      "metadata": {
        "colab": {
          "base_uri": "https://localhost:8080/"
        },
        "id": "MhDAOWGOI6W9",
        "outputId": "e07a96c4-7af4-47a6-e826-013194b17f24"
      },
      "source": [
        "experiment_with_clusters_numbers(layer_idx, 5, 14, 16, 28, 32, 60, 64)"
      ],
      "execution_count": 71,
      "outputs": [
        {
          "output_type": "stream",
          "text": [
            "Results for clusters [16, 15, 16, 14, 16, 14, 29, 28, 28, 30, 28, 29, 32, 64, 60, 60, 64, 63, 63, 63]:\n",
            "Loss on the test data: 0.744\n",
            "Accuracy on test data: 0.821\n",
            "\n",
            "\n",
            "Results for clusters [15, 15, 15, 14, 14, 16, 29, 32, 31, 31, 29, 31, 31, 60, 64, 61, 63, 61, 60, 60]:\n",
            "Loss on the test data: 1.193\n",
            "Accuracy on test data: 0.731\n",
            "\n",
            "\n",
            "Results for clusters [14, 16, 14, 15, 16, 16, 30, 31, 31, 32, 30, 32, 32, 62, 61, 61, 63, 60, 64, 64]:\n",
            "Loss on the test data: 0.543\n",
            "Accuracy on test data: 0.867\n",
            "\n",
            "\n",
            "Results for clusters [15, 16, 15, 14, 14, 15, 32, 30, 31, 32, 28, 31, 30, 63, 61, 60, 60, 64, 63, 64]:\n",
            "Loss on the test data: 0.807\n",
            "Accuracy on test data: 0.808\n",
            "\n",
            "\n",
            "Results for clusters [16, 14, 14, 14, 15, 16, 29, 29, 31, 29, 31, 28, 29, 62, 60, 64, 60, 63, 61, 61]:\n",
            "Loss on the test data: 1.321\n",
            "Accuracy on test data: 0.709\n",
            "\n",
            "\n"
          ],
          "name": "stdout"
        }
      ]
    },
    {
      "cell_type": "markdown",
      "metadata": {
        "id": "7zFdd5nqNMV2"
      },
      "source": [
        "В данном случае уже видно, что качество стало заметно лучше, но при этом все равно значительно меньше качества исходной модели."
      ]
    },
    {
      "cell_type": "markdown",
      "metadata": {
        "id": "tjIgdkMINXRv"
      },
      "source": [
        "Итак, можно заметить, что качество полученных моделей значительно падает при использовании меньшего количества кластеров, при этом можно приблизиться к качеству исходной модели, но при этом практически не отходя от истинного количества сверток в слоях."
      ]
    },
    {
      "cell_type": "markdown",
      "metadata": {
        "id": "Dru2r_zuPqMZ"
      },
      "source": [
        "## Мысли и идеи"
      ]
    },
    {
      "cell_type": "markdown",
      "metadata": {
        "id": "Tpe47aiGN5Bv"
      },
      "source": [
        "Можно предположить, что данный подход не очень хорошо работает из-за используемого внутри метода кластеризации, а также из-за слишком наивного выбора признаков для сверток на каждом слое (весь тензор весов просто \"вытягивался\" в вектор для получения признаков отдельной свертки). "
      ]
    },
    {
      "cell_type": "markdown",
      "metadata": {
        "id": "n3_HJRiVOuRr"
      },
      "source": [
        "Изначально я приступил к изучению статьи [CUP: Cluster Pruning for Compressing Deep Neural Networks](https://arxiv.org/abs/1911.08630) (так как немного неправильно понял исходную задачу), в которой применяется агломеративная иерархическая кластеризация векторов признаков слоев (с учетом признаков со следующего слоя), при этом архитектура полученной сети изменяется, вектора признаков считаются по-другому, а также делается выбор подмножества фильтров из кластеров (в статье используется один фильтр в качестве \"представителя\" кластера) согласно L2-норме признаков. Такой подход позволил авторам статьи получить высокие результаты после применения pruning'а, поэтому я думаю, что такая идея могла бы улучшить результаты. Я попробовал реализовать такой подход (ориентируясь на исходный код, который доступен в открытом доступе и ссылка на который указана в статье), но при этом немного не дошел до конца (пока не разобрался, как окончательно сделать так, чтобы все размерности сверточных слоев были согласованы; проблема в размерностях для residual connections). Данный код доступен в файле `prune_model.py`, класс `ArchModClusterModel`. "
      ]
    }
  ]
}